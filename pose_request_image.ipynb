{
 "cells": [
  {
   "cell_type": "markdown",
   "id": "b39a3ce0-25c7-4a31-aeed-4f0f0ea21cdd",
   "metadata": {},
   "source": [
    "Import Library for sending post request to keras_ocr server"
   ]
  },
  {
   "cell_type": "code",
   "execution_count": 13,
   "id": "eb9683a0-328b-4e1f-bcc0-42e86efc707f",
   "metadata": {},
   "outputs": [],
   "source": [
    "import requests\n",
    "import matplotlib.pyplot as plt\n",
    "import base64\n",
    "import cv2\n",
    "import numpy as np"
   ]
  },
  {
   "cell_type": "markdown",
   "id": "04f3d2dc-c5cc-4be1-8822-0460d20d3725",
   "metadata": {
    "jp-MarkdownHeadingCollapsed": true
   },
   "source": [
    "สร้าง Function base64_to_image เพื่อแปลง response จาก ocr server จาก base64 เป็นรูปภาพ"
   ]
  },
  {
   "cell_type": "code",
   "execution_count": 14,
   "id": "1b6c1ccc-b94c-48df-909c-7e901195a65a",
   "metadata": {},
   "outputs": [],
   "source": [
    "def base64_to_image(base64_string):\n",
    "    # Decode the base64 string\n",
    "    image_data = base64.b64decode(base64_string)\n",
    "    # Convert the image data to a numpy array\n",
    "    image_array = np.frombuffer(image_data, dtype=np.uint8)\n",
    "    # Decode the image array using OpenCV\n",
    "    image = cv2.imdecode(image_array, cv2.IMREAD_COLOR)\n",
    "    return image\n"
   ]
  },
  {
   "cell_type": "markdown",
   "id": "9115187a-058e-46f6-a60b-3b8caa7e7289",
   "metadata": {
    "jp-MarkdownHeadingCollapsed": true
   },
   "source": [
    "สร้าง Post request สำหรับรูปภาพไปที่ keras_ocr server โดยการกำหนด IP Address, port และ route ของ server"
   ]
  },
  {
   "cell_type": "code",
   "execution_count": 15,
   "id": "19bc6513-c12e-47a6-bf35-50058439dc59",
   "metadata": {},
   "outputs": [],
   "source": [
    "response = requests.post('http://127.0.0.1:5000/ocr', files={'image': open('C:/Users/User/Desktop/myproject/keras_ocr/demo.jpg', 'rb')})"
   ]
  },
  {
   "cell_type": "markdown",
   "id": "28c146b5-736b-4e6f-a80b-a41359a7f16a",
   "metadata": {},
   "source": [
    "# สร้าง Try and Except เพื่อรองรับ response จาก server"
   ]
  },
  {
   "cell_type": "code",
   "execution_count": 16,
   "id": "a6beac78-795d-48a6-a428-56ab8dcd108a",
   "metadata": {},
   "outputs": [],
   "source": [
    "try:\n",
    "    # Convert the base64 string to an image\n",
    "    image = base64_to_image(response.json()['image_base64'])\n",
    "\n",
    "    # Display the image using OpenCV\n",
    "    cv2.imshow(\"Image\", image)\n",
    "    cv2.waitKey(0)\n",
    "    cv2.destroyAllWindows()\n",
    "except Exception as e:\n",
    "    print(\"Error:\", e)"
   ]
  }
 ],
 "metadata": {
  "kernelspec": {
   "display_name": "Python 3 (ipykernel)",
   "language": "python",
   "name": "python3"
  },
  "language_info": {
   "codemirror_mode": {
    "name": "ipython",
    "version": 3
   },
   "file_extension": ".py",
   "mimetype": "text/x-python",
   "name": "python",
   "nbconvert_exporter": "python",
   "pygments_lexer": "ipython3",
   "version": "3.9.17"
  }
 },
 "nbformat": 4,
 "nbformat_minor": 5
}
