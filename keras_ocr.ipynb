{
 "cells": [
  {
   "cell_type": "markdown",
   "id": "2d94be7a-09f9-4996-ae3d-11c593eb21b4",
   "metadata": {},
   "source": [
    "# Import Library for Keras_ocr servers np"
   ]
  },
  {
   "cell_type": "code",
   "execution_count": 1,
   "id": "bb856c9f-e3ce-4d2d-b063-445783e34aa0",
   "metadata": {},
   "outputs": [],
   "source": [
    "from flask import Flask, request, jsonify\n",
    "import keras_ocr\n",
    "import cv2, os\n",
    "import numpy as np\n",
    "import base64\n",
    "import tensorflow as tf\n",
    "from keras import backend as K"
   ]
  },
  {
   "cell_type": "markdown",
   "id": "cd9b3196-def3-4037-ae4c-9369bd7a382c",
   "metadata": {},
   "source": [
    "# Load the pre-trained model"
   ]
  },
  {
   "cell_type": "code",
   "execution_count": 2,
   "id": "e2b8b431-2966-452b-aad9-e82cb4060dcc",
   "metadata": {},
   "outputs": [
    {
     "name": "stdout",
     "output_type": "stream",
     "text": [
      "Looking for C:\\Users\\User\\.keras-ocr\\craft_mlt_25k.h5\n",
      "Looking for C:\\Users\\User\\.keras-ocr\\crnn_kurapan.h5\n"
     ]
    }
   ],
   "source": [
    "pipeline = keras_ocr.pipeline.Pipeline()"
   ]
  },
  {
   "cell_type": "markdown",
   "id": "a1bbe4c6-fba2-48cb-a0fa-a72afd4efc8f",
   "metadata": {},
   "source": [
    "# Function image_decoder for predict from the images"
   ]
  },
  {
   "cell_type": "code",
   "execution_count": 3,
   "id": "935d4694-fe46-43ce-9b94-32a7b4b2e432",
   "metadata": {},
   "outputs": [],
   "source": [
    "def predict_ocr(file):\n",
    "    image = cv2.imdecode(np.frombuffer(file.read(), np.uint8), cv2.IMREAD_COLOR)\n",
    "    image = cv2.cvtColor(image, cv2.COLOR_BGR2RGB)\n",
    "    #predict from the image\n",
    "    predictions = pipeline.recognize([image])\n",
    "    #print(predictions)\n",
    "    text = ' '.join([word[0] for word in predictions[0]])\n",
    "    #Construct the text from json \n",
    "    json_text = {}\n",
    "    #put bounding box to every texts\n",
    "    for i in range(len(predictions[0])):\n",
    "        json_text[f\"param{i+1}\"] = predictions[0][i][0]\n",
    "        bounding_boxes = predictions[0][i][1]\n",
    "        pt1 = tuple([int(bounding_boxes[0][0]),int(bounding_boxes[0][1])])\n",
    "        pt2 = tuple([int(bounding_boxes[2][0]),int(bounding_boxes[2][1])])\n",
    "        cv2.rectangle(image, pt1, pt2, (0, 255, 0), 2)\n",
    "        cv2.putText(image, predictions[0][i][0], pt1, cv2.FONT_HERSHEY_SIMPLEX, 0.5, (255, 0, 0), 1, cv2.LINE_AA)\n",
    "        # Encode the image as base64\n",
    "        _, image_encoded = cv2.imencode('.png', image)\n",
    "        image_base64 = base64.b64encode(image_encoded).decode('utf-8')\n",
    "        # Return the recognized text and image with bounding boxes as a JSON response\n",
    "        response = {'json': json_text, 'image_base64': image_base64}\n",
    "    return response"
   ]
  },
  {
   "cell_type": "markdown",
   "id": "0816dc34-4a77-4666-a7f2-56f992dcc0b6",
   "metadata": {},
   "source": [
    "# Create Flask Server"
   ]
  },
  {
   "cell_type": "code",
   "execution_count": null,
   "id": "d3dbba3a-68a6-461d-927f-94ec0deefa11",
   "metadata": {},
   "outputs": [
    {
     "name": "stdout",
     "output_type": "stream",
     "text": [
      " * Serving Flask app '__main__'\n",
      " * Debug mode: off\n"
     ]
    },
    {
     "name": "stderr",
     "output_type": "stream",
     "text": [
      "WARNING: This is a development server. Do not use it in a production deployment. Use a production WSGI server instead.\n",
      " * Running on all addresses (0.0.0.0)\n",
      " * Running on http://127.0.0.1:5000\n",
      " * Running on http://192.168.1.33:5000\n",
      "Press CTRL+C to quit\n"
     ]
    }
   ],
   "source": [
    "app = Flask(__name__)\n",
    "@app.route('/ocr', methods=['POST'])\n",
    "def ocr():\n",
    "    # Get the image from the request and decode\n",
    "    file = request.files['image']\n",
    "    response = predict_ocr(file)\n",
    "    return jsonify(response)\n",
    "    \n",
    "if __name__ == '__main__':\n",
    "    app.run(host='0.0.0.0', port=5000)"
   ]
  }
 ],
 "metadata": {
  "kernelspec": {
   "display_name": "Python 3 (ipykernel)",
   "language": "python",
   "name": "python3"
  },
  "language_info": {
   "codemirror_mode": {
    "name": "ipython",
    "version": 3
   },
   "file_extension": ".py",
   "mimetype": "text/x-python",
   "name": "python",
   "nbconvert_exporter": "python",
   "pygments_lexer": "ipython3",
   "version": "3.9.17"
  }
 },
 "nbformat": 4,
 "nbformat_minor": 5
}
